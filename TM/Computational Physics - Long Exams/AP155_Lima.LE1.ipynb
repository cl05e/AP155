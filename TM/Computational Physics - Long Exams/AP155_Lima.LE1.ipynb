{
 "cells": [
  {
   "cell_type": "markdown",
   "metadata": {},
   "source": [
    "Jan Carlo L. Lima  \n",
    "## AP155 Long Exam 1"
   ]
  },
  {
   "cell_type": "markdown",
   "metadata": {},
   "source": [
    "### Problem 1"
   ]
  },
  {
   "cell_type": "markdown",
   "metadata": {},
   "source": [
    "(a) $$ E = \\frac{1}{2} m \\left(\\frac{dx}{dt}\\right)^2 + V(x) $$  \n",
    "Substitute $E = V(a)$  \n",
    "$$ V(a) = \\frac{1}{2} m \\left(\\frac{dx}{dt}\\right)^2 + V(x) $$  \n",
    "$$ V(a) - V(x) = \\frac{1}{2} m \\left(\\frac{dx}{dt}\\right)^2 $$  \n",
    "$$ \\sqrt{\\frac{2}{m} \\cdot \\left (V(a) - V(x)\\right)} = \\frac{dx}{dt} $$  \n",
    "$$ \\int_{0}^{\\frac{1}{4}T} dt = \\int_{0}^{a} \\sqrt{\\frac{m}{2}} \\frac{dx}{-\\sqrt{V(a) - V(x)}} $$  \n",
    "$$ \\frac{1}{4}T =  \\sqrt{\\frac{m}{2}} \\int_{0}^{a}\\frac{dx}{-\\sqrt{V(a) - V(x)}} $$  \n",
    "$$ T =  4 \\sqrt{\\frac{m}{2}} \\int_{0}^{a}\\frac{dx}{-\\sqrt{V(a) - V(x)}} $$  \n",
    "$$ T =  \\sqrt{8m} \\int_{0}^{a}\\frac{dx}{-\\sqrt{V(a) - V(x)}} $$  \n",
    "\n",
    "Notice that we take the negative square root, since d$x$/d$t$ is clearly negative.\n",
    "Now we intergrate with respect to $t$ on both sides up to $t = T/4$, noting that $x(t = 0) = a$ and $x(t = T/4) = 0$, to get\n",
    "\n",
    "$-\\sqrt{\\frac{1}{2}m} \\int_a^0 \\frac{\\mathrm{d}x}{\\sqrt{V(a) - V(x)}} = \\frac{1}{4}T$\n",
    "\n",
    "Then the required result follows straightforwardly."
   ]
  },
  {
   "cell_type": "code",
   "execution_count": 1,
   "metadata": {},
   "outputs": [
    {
     "data": {
      "text/plain": [
       "(0, 10)"
      ]
     },
     "execution_count": 1,
     "metadata": {},
     "output_type": "execute_result"
    },
    {
     "data": {
      "image/png": "[encoded data removed]",
      "text/plain": [
       "<Figure size 432x288 with 1 Axes>"
      ]
     },
     "metadata": {
      "needs_background": "light"
     },
     "output_type": "display_data"
    }
   ],
   "source": [
    "from gaussxw import gaussxw\n",
    "from numpy import arange, sqrt\n",
    "from matplotlib.pyplot import plot, xlabel, ylabel, legend, title, ylim\n",
    "%matplotlib inline\n",
    "\n",
    "m = 1.\n",
    "N = 20\n",
    "x,w = gaussxw(N)\n",
    "\n",
    "def V(x):\n",
    "    return x**2 - x**4/4.\n",
    "\n",
    "# Function to calculate the period\n",
    "def T(a):\n",
    "    E = V(a)\n",
    "    \n",
    "    # Perform the integral\n",
    "    xp = 0.5*a*(x+1)\n",
    "    wp = 0.5*a*w\n",
    "    s = 0.0\n",
    "    for i in range(N):\n",
    "        s += wp[i]/sqrt(E-V(xp[i]))\n",
    "        \n",
    "    return sqrt(8*m)*s\n",
    "\n",
    "# Main program\n",
    "apoints = arange(0.99, 0, -0.01)\n",
    "Tpoints = []\n",
    "for i in range(len(apoints)):\n",
    "    Tpoints.append(T(apoints[i]))\n",
    "\n",
    "plot(apoints, Tpoints)\n",
    "xlabel(\"Amplitude\", fontsize=14)\n",
    "ylabel(\"Period\", fontsize=14)\n",
    "title(\"Period as a function of Amplitude\", fontsize=16)\n",
    "ylim(0,10)"
   ]
  },
  {
   "cell_type": "markdown",
   "metadata": {},
   "source": [
    "(c) A harmonic oscillator has a constant period because even thought it travels farther when the amplitude is greater it also travels faster, because the initial potential energy is greater for greater amplitude. The same is true in the anharmonic oscillator above: but gets longer as $a$ approaches one, mainly because the anharmonic terms leads to a reduction of the potential compared to the pure harmonic case, which becomes more pronounced as we $a$ approaches one."
   ]
  },
  {
   "cell_type": "code",
   "execution_count": 2,
   "metadata": {},
   "outputs": [
    {
     "data": {
      "text/plain": [
       "<matplotlib.legend.Legend at 0x2180bce7a58>"
      ]
     },
     "execution_count": 2,
     "metadata": {},
     "output_type": "execute_result"
    },
    {
     "data": {
      "image/png": "[encoded data removed]",
      "text/plain": [
       "<Figure size 432x288 with 1 Axes>"
      ]
     },
     "metadata": {
      "needs_background": "light"
     },
     "output_type": "display_data"
    }
   ],
   "source": [
    "x = arange(0,1,0.01)\n",
    "V_harmonic = lambda x: x**2\n",
    "plot(x, V(x),x, V_harmonic(x))\n",
    "legend(['Anharmonic oscillator','Harmonic oscillator'])"
   ]
  },
  {
   "cell_type": "markdown",
   "metadata": {},
   "source": [
    "### Problem 2"
   ]
  },
  {
   "cell_type": "markdown",
   "metadata": {},
   "source": [
    "From Newton's Law of Gravitation:\n",
    "$$ \\vec F = \\frac{GMm}{r^2} \\hat r $$  \n",
    "The component of this force along z is:\n",
    "$$ F_z =  \\frac{GMm}{r^2} \\frac{z}{r} $$  \n",
    "since $\\hat z = \\frac{z}{r}.$\n",
    "We know that:  \n",
    "$$ M = \\int \\sigma dA $$  \n",
    "$$ M = \\sigma \\int_{-\\frac{L}{2}}^{\\frac{L}{2}} dx \\int_{-\\frac{L}{2}}^{\\frac{L}{2}} dy $$  \n",
    "$$ M = \\sigma \\iint_{-L/2}^{L/2}dx dy $$  \n",
    "Also we know that the r is:  \n",
    "$$ r = \\sqrt{x^2 + y^2 + z^2} $$  \n",
    "Plug-in the equations of M and r to the equation for the z-component of the force:  \n",
    "$$ F_z =  Gmz\\sigma \\int \\int_{-L/2}^{L/2} \\frac{dx dy}{(x^2 + y^2 + z^2)^{3/2}} $$  \n",
    "since m = 1kg:  \n",
    "$$ F_z =  G\\sigma z \\int \\int_{-L/2}^{L/2} \\frac{dx dy}{(x^2 + y^2 + z^2)^{3/2}} $$  "
   ]
  },
  {
   "cell_type": "code",
   "execution_count": 3,
   "metadata": {},
   "outputs": [
    {
     "data": {
      "text/plain": [
       "Text(0.5, 1.0, \"Force as a function of height 'z' (m)\")"
      ]
     },
     "execution_count": 3,
     "metadata": {},
     "output_type": "execute_result"
    },
    {
     "data": {
      "image/png": "[encoded data removed]",
      "text/plain": [
       "<Figure size 432x288 with 1 Axes>"
      ]
     },
     "metadata": {
      "needs_background": "light"
     },
     "output_type": "display_data"
    }
   ],
   "source": [
    "from gaussxw import gaussxwab\n",
    "\n",
    "zmin = 0.0\n",
    "zmax = 1.0\n",
    "zstep = 0.01\n",
    "N = 100\n",
    "L = 10.0\n",
    "G = 6.674e-11\n",
    "rho = 100.0\n",
    "\n",
    "# Calculate the points for Gaussian integration\n",
    "x,w = gaussxwab(N, -L/2, L/2)\n",
    "\n",
    "# Perform the double integral\n",
    "def f(z):\n",
    "    s = 0.0\n",
    "    for i in range(N):\n",
    "        for j in range(N):\n",
    "            s += w[i]*w[j] / (x[i]**2 + x[j]**2 + z**2)**(3./2)\n",
    "    return G*rho*z*s\n",
    "\n",
    "# Main program\n",
    "zpoints = arange(zmin, zmax, zstep)\n",
    "fpoints = []\n",
    "for i in range(len(zpoints)):\n",
    "    fpoints.append(f(zpoints[i]))\n",
    "\n",
    "plot(zpoints, fpoints)\n",
    "xlabel(\"height (z)\", fontsize=14)\n",
    "ylabel(\"Force (N)\", fontsize=14)\n",
    "title(\"Force as a function of height 'z' (m)\", fontsize=16)"
   ]
  },
  {
   "cell_type": "markdown",
   "metadata": {},
   "source": [
    "(c) This solution is OK as far as it goes, but it's not exactly correct. The drop in the force close to the metal plate - the way it goes to zero as $z$ approaches zero - is an artifact that arises because when we are close to the plate, the force on the particle is dominated by the attraction of the nearby parts of the plate, those close to the origin. However, there are no integration points close to the origin, and hence this important part of the force gets missed out. One can remedy this by increasing the number of points, although this doesn't get rid of the problem entirely. A better solution is to make a change of variable $X = x/z$, $Y = y/z$, so that\n",
    "\n",
    "$F_z = G\\rho\\int\\int_{-L/2z}^{L/2z} \\frac{\\mathrm{d}X\\mathrm{d}Y}{(X^2 + Y^2 + 1)^{3/2}}$\n",
    "\n",
    "Now one can see the nature of the problem - the integral effectively becomes an integral over an infinite range as $z$ approaches zero. To get an accurate value for this integral, therefore, one must use another change of variables, so as to cover the infinite range properly. For instance, with the substitution $X = \\tan\\theta$ and $Y = \\tan\\phi$, one can get rid of the artifact entirely."
   ]
  },
  {
   "cell_type": "markdown",
   "metadata": {},
   "source": [
    "### Problem 3"
   ]
  },
  {
   "cell_type": "code",
   "execution_count": 4,
   "metadata": {},
   "outputs": [],
   "source": [
    "from numpy import empty, arange\n",
    "from matplotlib.pyplot import scatter, xlabel, ylabel, show\n",
    "%matplotlib inline\n",
    "# Constants\n",
    "rmin = 0.0    # Starting value of r\n",
    "rmax = 4.0    # Ending value of r\n",
    "rstep = 0.01  # Increment\n",
    "steps = 1000  # Number of iterations"
   ]
  },
  {
   "cell_type": "code",
   "execution_count": 5,
   "metadata": {},
   "outputs": [
    {
     "data": {
      "text/plain": [
       "Text(0.5, 1.0, 'Feigenbaum Plot')"
      ]
     },
     "execution_count": 5,
     "metadata": {},
     "output_type": "execute_result"
    },
    {
     "data": {
      "image/png": "[encoded data removed]",
      "text/plain": [
       "<Figure size 432x288 with 1 Axes>"
      ]
     },
     "metadata": {
      "needs_background": "light"
     },
     "output_type": "display_data"
    }
   ],
   "source": [
    "from numpy import array\n",
    "\n",
    "# Set up the initial arrays\n",
    "r = arange(rmin, rmax, rstep)\n",
    "x = empty(len(r), float)\n",
    "x[:] = 0.5\n",
    "\n",
    "# Iterate for a while to allow it to settle down - the number of steps here just have to be\n",
    "# sufficient to remove transient effects\n",
    "for i in range(steps):\n",
    "    x = r*x*(1-x)\n",
    "    \n",
    "# Calculate the values for the plot\n",
    "for i in range(steps):\n",
    "    x = r*x*(1-x)\n",
    "    plot(r,x,\"b, \")\n",
    "\n",
    "xlabel(\"r\")\n",
    "ylabel(\"x\")\n",
    "title(\"Feigenbaum Plot\", fontsize=16)"
   ]
  },
  {
   "cell_type": "markdown",
   "metadata": {},
   "source": [
    "b) A fixed point is a value of $r$ for which there is only one value of $x$ - so it's just a single dot. A limit cycle is a discrete set of dots for the same $r$, say four of them. Chaos is a whole band of different values of $x$ for the same $r$ so it looks like a vertical line, or a set of lines.\n",
    "\n",
    "c) Based on the plot above, it looks like the edge of chaos falls around $r = 3.6$."
   ]
  },
  {
   "cell_type": "markdown",
   "metadata": {},
   "source": [
    "(c) at around 3.5, the system moves from order to chaos"
   ]
  },
  {
   "cell_type": "markdown",
   "metadata": {},
   "source": [
    "### Problem 4"
   ]
  },
  {
   "cell_type": "code",
   "execution_count": 6,
   "metadata": {},
   "outputs": [
    {
     "data": {
      "text/plain": [
       "Text(0.5, 1.0, 'Plot of $x^{a-1}e^{-x}$ for different values of a')"
      ]
     },
     "execution_count": 6,
     "metadata": {},
     "output_type": "execute_result"
    },
    {
     "data": {
      "image/png": "[encoded data removed]",
      "text/plain": [
       "<Figure size 432x288 with 1 Axes>"
      ]
     },
     "metadata": {
      "needs_background": "light"
     },
     "output_type": "display_data"
    }
   ],
   "source": [
    "from numpy import exp, log, arange\n",
    "\n",
    "def f(x,a):\n",
    "    return exp((a-1)*log(x)-x)\n",
    "x = arange(0.01 , 5,0.01)\n",
    "plot(x,f(x,a=2), x,f(x,a=3), x, f(x,a=4))\n",
    "xlabel(\"x\", fontsize=14)\n",
    "ylabel(\"y\", fontsize=14)\n",
    "legend(['a=2','a=3','a=4'])\n",
    "title(\"Plot of $x^{a-1}e^{-x}$ for different values of a\", fontsize=16)"
   ]
  },
  {
   "cell_type": "markdown",
   "metadata": {},
   "source": [
    "(b) In order to determine if the maximum falss at x = a-1, we first determine the critical points of $x^{a-1}e^{-x}$:  \n",
    "$$\\frac{d (x^{a-1}e^{-x})}{dx} = 0$$  \n",
    "$$ x^{a-1}(-e^{-x}) + e^{-x}\\left((a-1)\\cdot x^{a-2}\\right) = 0 $$  \n",
    "$$ -x^{a-1} + \\left((a-1)\\cdot x^{a-2}\\right) = 0 $$  \n",
    "$$ \\left((a-1)\\cdot x^{a-2}\\right) - x^{a-1} = 0 $$  \n",
    "When x = a-1:\n",
    "$$ \\left((a-1)\\cdot (a-1)^{a-2}\\right) - (a-1)^{a-1} = 0 $$\n",
    "$$ (a-1)^{a-1} - (a-1)^{a-1} = 0 $$"
   ]
  },
  {
   "cell_type": "markdown",
   "metadata": {},
   "source": [
    "(c)  \n",
    "$$ z = \\frac{x}{c+x} $$  \n",
    "$$ (c+x) \\cdot z = x $$  \n",
    "$$ zc + zx = x $$  \n",
    "$$ zc = x - zx $$  \n",
    "$$ zc = x(1-z) $$  \n",
    "$$ x = \\frac{zc}{1-z} $$  \n",
    "if $z = 1/2$, $x = c$  \n",
    "\n",
    "our corresponding $c$ will be $a-1$ since it is where our maximum falls "
   ]
  },
  {
   "cell_type": "markdown",
   "metadata": {},
   "source": [
    "(d)\n",
    "$$x^{a-1} = e^{(a-1)lnx}$$  \n",
    "\n",
    "$$\\Gamma (a) = \\int_{0}^{\\infty} e^{(a-1)lnx}e^{-x} dx $$  \n",
    "from \n",
    "$$z = \\frac{x}{(a-1)+x}$$  \n",
    "get x in terms of z:\n",
    "$$ x = \\frac{(a-1)z}{1-z} $$  \n",
    "and get dx in terms of dz:\n",
    "$$dx = \\frac{(1-z)(a-1) - \\left[(a-1)\\cdot z \\cdot -dz \\right]}{(1-z)^2}$$  \n",
    "$$ dx = \\frac{a-1}{(1-z)^2}dz $$  \n",
    "substitute x(z) and dx to the integrand:\n",
    "$$\\Gamma (a) = \\int_{0}^{\\infty} e^{(a-1)ln\\left(\\frac{(a-1)z}{1-z}\\right)}e^{-\\left(\\frac{(a-1)z}{1-z}\\right)} \\frac{a-1}{(1-z)^2}dz $$  \n",
    "$$\\Gamma (a) = \\int_{0}^{\\infty} e^{\\left((a-1) \\cdot ln\\left(\\frac{(a-1)z}{1-z}\\right)\\right)-\\left(\\frac{(a-1)z}{1-z}\\right)} \\frac{a-1}{(1-z)^2}dz $$  \n",
    "and now we have our final gamma function integrand!"
   ]
  },
  {
   "cell_type": "code",
   "execution_count": 7,
   "metadata": {},
   "outputs": [
    {
     "name": "stdout",
     "output_type": "stream",
     "text": [
      "0.886226925489104\n",
      "0.8862269254527579\n"
     ]
    }
   ],
   "source": [
    "from numpy import log,exp,pi\n",
    "\n",
    "def gamma(a):\n",
    "    def f(z):\n",
    "        return exp(((a-1)*log(((a-1)*z)/(1-z)))-(((a-1)*z)/(1-z))) * ((a-1))/((1-z)**2)\n",
    "    \n",
    "    N = 1000\n",
    "    l = 0.0\n",
    "    u = 1\n",
    "    \n",
    "# Calculate the sample points and weights, then map\n",
    "    x,w = gaussxw(N)\n",
    "    xp = 0.5*(u-l)*x + 0.5*(u+l)\n",
    "    wp = 0.5*(u-l)*w\n",
    "    \n",
    "# Perform the integration\n",
    "    g = 0.0\n",
    "    for k in range(N):\n",
    "        g += wp[k]*f(xp[k])\n",
    "    return g\n",
    "\n",
    "print(gamma(3./2))\n",
    "print((0.5)*sqrt(pi))"
   ]
  },
  {
   "cell_type": "markdown",
   "metadata": {},
   "source": [
    "^ the two values are comparable!"
   ]
  },
  {
   "cell_type": "code",
   "execution_count": 8,
   "metadata": {},
   "outputs": [
    {
     "name": "stdout",
     "output_type": "stream",
     "text": [
      "1.0000000000000009\n",
      "23.999999999999982\n",
      "40320.00000000006\n"
     ]
    }
   ],
   "source": [
    "print(gamma(2.))\n",
    "print(gamma(5.))\n",
    "print(gamma(9.))"
   ]
  },
  {
   "cell_type": "markdown",
   "metadata": {
    "collapsed": true
   },
   "source": [
    "exactly the same as the values in the Exam handout!"
   ]
  }
 ],
 "metadata": {
  "kernelspec": {
   "display_name": "Python 3",
   "language": "python",
   "name": "python3"
  },
  "language_info": {
   "codemirror_mode": {
    "name": "ipython",
    "version": 3
   },
   "file_extension": ".py",
   "mimetype": "text/x-python",
   "name": "python",
   "nbconvert_exporter": "python",
   "pygments_lexer": "ipython3",
   "version": "3.7.3"
  }
 },
 "nbformat": 4,
 "nbformat_minor": 1
}
