{
 "cells": [
  {
   "cell_type": "markdown",
   "metadata": {},
   "source": [
    "Jan Carlo L. Lima  \n",
    "## AP155 Long Exam 4"
   ]
  },
  {
   "cell_type": "markdown",
   "metadata": {},
   "source": [
    "### Item 1. Rolling biased dice (9 pts)"
   ]
  },
  {
   "cell_type": "code",
   "execution_count": 1,
   "metadata": {},
   "outputs": [
    {
     "name": "stdout",
     "output_type": "stream",
     "text": [
      "Double six fraction =  0.020486\n"
     ]
    }
   ],
   "source": [
    "from random import randrange\n",
    "N = 1000000\n",
    "count = 0\n",
    "for i in range(N):\n",
    "    d1 = randrange(1,8)\n",
    "    d2 = randrange(1,8)\n",
    "    if d1 == 7:\n",
    "        d1 == 3\n",
    "    if d2 == 7:\n",
    "        d2 == 3\n",
    "    if d1==6 and d2==6:\n",
    "        count += 1    \n",
    "print(\"Double six fraction = \", count/N)"
   ]
  },
  {
   "cell_type": "markdown",
   "metadata": {},
   "source": [
    "which is close to the correct value of 1/49 = 0.02040816326530612. On other runs it will probably produce a different number, since the program is random"
   ]
  },
  {
   "cell_type": "markdown",
   "metadata": {},
   "source": [
    "### Item 2: Volume of a hypersphere (11 pts)"
   ]
  },
  {
   "cell_type": "markdown",
   "metadata": {},
   "source": [
    "In an arbitrary number of dimensions $d$, with $N$ points indexed by $i = 1, ..., N$ and $d$-dimensional coordinates ${\\bf{r}}_i = (x_1^{(i)}, ..., x_d^{(i)})$, the function $f(x)$ generalizes to $f({\\bf{r}}_i) = 1$ if $|{\\bf{r}}_i|^2 \\leq 1$, and 0 otherwise. Then the integral is given approximately by\n",
    "\\begin{equation}\n",
    "I \\approx \\frac{2^d}{N}\\sum_{i=1}^{N}f({\\bf{r}}_i).\n",
    "\\end{equation}\n"
   ]
  },
  {
   "cell_type": "code",
   "execution_count": 2,
   "metadata": {},
   "outputs": [
    {
     "name": "stdout",
     "output_type": "stream",
     "text": [
      "I =  2.577408\n"
     ]
    }
   ],
   "source": [
    "from numpy import empty, dot\n",
    "from numpy.random import random\n",
    "d = 10\n",
    "N = 1000000\n",
    "\n",
    "#Integrand function\n",
    "def f(r):\n",
    "    if dot(r,r)<=1:\n",
    "        return 1\n",
    "    else:\n",
    "        return 0\n",
    "\n",
    "s = 0.\n",
    "for i in range(N):\n",
    "    #Generate a random point\n",
    "    r = 2*random(d) - 1\n",
    "    s += f(r)\n",
    "    \n",
    "print(\"I = \",(2**d)*s/N)"
   ]
  },
  {
   "cell_type": "markdown",
   "metadata": {},
   "source": [
    "This is not too far off from the correct value of $\\pi^5/5! = 2.55016$."
   ]
  },
  {
   "cell_type": "markdown",
   "metadata": {},
   "source": [
    "### Item 3. The Ising model (14 pts)"
   ]
  },
  {
   "cell_type": "code",
   "execution_count": 3,
   "metadata": {},
   "outputs": [],
   "source": [
    "%matplotlib inline\n",
    "from numpy import empty, sum, copy, exp\n",
    "from numpy.random import random\n",
    "from random import randrange\n",
    "from matplotlib.pyplot import plot, xlabel, ylabel, imshow"
   ]
  },
  {
   "cell_type": "code",
   "execution_count": 4,
   "metadata": {},
   "outputs": [
    {
     "data": {
      "text/plain": [
       "Text(0, 0.5, 'Magnetization')"
      ]
     },
     "execution_count": 4,
     "metadata": {},
     "output_type": "execute_result"
    },
    {
     "data": {
      "image/png": "[encoded data removed]",
      "text/plain": [
       "<Figure size 432x288 with 1 Axes>"
      ]
     },
     "metadata": {
      "needs_background": "light"
     },
     "output_type": "display_data"
    }
   ],
   "source": [
    "L = 20\n",
    "N = 1000000\n",
    "J = 1.0\n",
    "T = 1.0\n",
    "spin1_density = 0.5\n",
    "\n",
    "#Initial state\n",
    "s = random([L,L]) < spin1_density\n",
    "s = 2*s - 1\n",
    "M = sum(s)\n",
    "\n",
    "def energy(s):\n",
    "    return -J*(sum(s[0:L-1,:]*s[1:L,:]) + sum(s[:,0:L-1]*s[:,1:L]))\n",
    "\n",
    "E = energy(s)\n",
    "mpoints = []\n",
    "#Main Monte Carlo loop\n",
    "for k in range(N):\n",
    "    mpoints.append(M)\n",
    "    #Save the current energy\n",
    "    oldE = E\n",
    "    #Choose a spin, flip it, and calculate the change in energy\n",
    "    i = randrange(L)\n",
    "    j = randrange(L)\n",
    "    s[i,j] = -s[i,j]\n",
    "    E = energy(s)\n",
    "    deltaE = E - oldE\n",
    "    \n",
    "    #Decide whether to accept the move using the Metropolis formula\n",
    "    if deltaE > 0.:\n",
    "        if random() > exp(-deltaE/T):\n",
    "            #Move rejected. Revert to old state\n",
    "            s[i,j] = -s[i,j]\n",
    "            E = oldE\n",
    "            #continue\n",
    "    #Accepted, so calculate new magnetization\n",
    "    M = sum(s)\n",
    "    \n",
    "plot(mpoints)\n",
    "ylabel('Magnetization')"
   ]
  },
  {
   "cell_type": "markdown",
   "metadata": {},
   "source": [
    "The magnetization starts close to zero, but rises to +400, which is the maximum value it can have, quite quickly. The system has become 'spontaneously magnetized.' If we run the program repeatedly, it will do the same thing every time, although sometimes it will magnetize positively and sometimes negatively. This is because the system is up-down symmetric, both directions being equivalent. In order to develop a nonzero magnetization, the system has to go one way or the other. Which way it goes depends on the details of the random fluctuations and cannot be predicted ahead of time. The same behavior, known as 'symmetry breaking' is also observed in real magnets."
   ]
  },
  {
   "cell_type": "markdown",
   "metadata": {},
   "source": [
    "NOTE: A better (and more correct) way to implement this program is to avoid calculating the energy altogether, but instead calculate just the change in energy -- a calculation confined to the spin that was flipped and its neighbors."
   ]
  },
  {
   "cell_type": "code",
   "execution_count": 5,
   "metadata": {},
   "outputs": [
    {
     "data": {
      "text/plain": [
       "[<matplotlib.lines.Line2D at 0x2101185ccf8>]"
      ]
     },
     "execution_count": 5,
     "metadata": {},
     "output_type": "execute_result"
    },
    {
     "data": {
      "image/png": "[encoded data removed]",
      "text/plain": [
       "<Figure size 432x288 with 1 Axes>"
      ]
     },
     "metadata": {
      "needs_background": "light"
     },
     "output_type": "display_data"
    }
   ],
   "source": [
    "L = 20\n",
    "N = 1000000\n",
    "J = 1.0\n",
    "T = 1.0\n",
    "spin1_density = 0.5\n",
    "\n",
    "#Initial state\n",
    "s = random([L,L]) < spin1_density\n",
    "s = 2*s - 1\n",
    "M = sum(s)\n",
    "mvrej =0 \n",
    "\n",
    "def delta_energy_if_flipped(s, i, j, L):\n",
    "    E_local = -J*s[i,j]*(s[i,(j+1)%L]+s[i,(j-1)%L]+s[(i-1)%L,j]+s[(i+1)%L,j])\n",
    "    E_local_new = -E_local #since s[i,j] sign flips\n",
    "    deltaE = E_local_new - E_local\n",
    "    return deltaE\n",
    "\n",
    "mpoints = []\n",
    "#Main Monte Carlo loop\n",
    "for k in range(N):\n",
    "    mpoints.append(M)\n",
    "    #Choose a spin, calculate the change in energy if flipped\n",
    "    i = randrange(L)\n",
    "    j = randrange(L)\n",
    "    old_s = s[i,j]\n",
    "    deltaE = delta_energy_if_flipped(s, i, j, L)\n",
    "    s[i,j] = -s[i,j]\n",
    "    #Decide whether to accept the move using the Metropolis formula\n",
    "    if deltaE > 0.:\n",
    "        if random() > exp(-deltaE/T):\n",
    "            #Move rejected. Revert to old state\n",
    "            s[i,j] = -s[i,j]\n",
    "    #Accepted, so calculate new magnetization\n",
    "    M = sum(s)\n",
    "    \n",
    "plot(mpoints)"
   ]
  },
  {
   "cell_type": "markdown",
   "metadata": {},
   "source": [
    "### Item 4. Diffusion-limited aggregation (16 pts)"
   ]
  },
  {
   "cell_type": "code",
   "execution_count": 6,
   "metadata": {},
   "outputs": [],
   "source": [
    "%matplotlib inline\n",
    "from numpy import zeros, sin\n",
    "from numpy.random import random\n",
    "from matplotlib.pyplot import imshow, figure, axis, colorbar"
   ]
  },
  {
   "cell_type": "code",
   "execution_count": 7,
   "metadata": {},
   "outputs": [],
   "source": [
    "def can_anchor(anchored,x,y):\n",
    "    if x==0 or y==0 or x==L or y==L: #hit a wall\n",
    "        return True\n",
    "    elif anchored[x-1,y]>0 or anchored[x+1,y]>0 or anchored[x,y-1]>0 or anchored[x,y+1]>0:\n",
    "        return True\n",
    "    else:\n",
    "        return False"
   ]
  },
  {
   "cell_type": "code",
   "execution_count": 8,
   "metadata": {},
   "outputs": [],
   "source": [
    "def random_walk(x,y):\n",
    "    if random() < 0.5: \n",
    "        if random() < 0.5:\n",
    "            x += 1\n",
    "        else:\n",
    "            x -= 1\n",
    "    else:\n",
    "        if random() < 0.5:\n",
    "            y += 1\n",
    "        else:\n",
    "            y -= 1\n",
    "    return [x,y]"
   ]
  },
  {
   "cell_type": "code",
   "execution_count": 9,
   "metadata": {},
   "outputs": [
    {
     "data": {
      "text/plain": [
       "<matplotlib.image.AxesImage at 0x21011cae390>"
      ]
     },
     "execution_count": 9,
     "metadata": {},
     "output_type": "execute_result"
    },
    {
     "data": {
      "image/png": "[encoded data removed]",
      "text/plain": [
       "<Figure size 432x288 with 1 Axes>"
      ]
     },
     "metadata": {
      "needs_background": "light"
     },
     "output_type": "display_data"
    }
   ],
   "source": [
    "#Constants\n",
    "L = 100\n",
    "#Set up an array to store the anchored particles\n",
    "anchored = zeros([L+1, L+1], bool)\n",
    "while anchored[L//2, L//2] == False:\n",
    "    #start a new particle at the center\n",
    "    x = y = L//2\n",
    "    while not can_anchor(anchored,x,y):\n",
    "        [x,y] = random_walk(x,y)\n",
    "    anchored[x,y] = True\n",
    "ax = figure()\n",
    "imshow(anchored, cmap='YlOrBr')"
   ]
  },
  {
   "cell_type": "markdown",
   "metadata": {},
   "source": [
    "We can also make the colorized version that shows the age of the anchored particle."
   ]
  },
  {
   "cell_type": "code",
   "execution_count": 10,
   "metadata": {},
   "outputs": [
    {
     "data": {
      "text/plain": [
       "<matplotlib.colorbar.Colorbar at 0x21011d388d0>"
      ]
     },
     "execution_count": 10,
     "metadata": {},
     "output_type": "execute_result"
    },
    {
     "data": {
      "image/png": "[encoded data removed]",
      "text/plain": [
       "<Figure size 432x288 with 2 Axes>"
      ]
     },
     "metadata": {
      "needs_background": "light"
     },
     "output_type": "display_data"
    }
   ],
   "source": [
    "#Constants\n",
    "L = 200\n",
    "#Set up an array to store the anchored particles\n",
    "anchored = zeros([L+1, L+1], int)\n",
    "age = 0\n",
    "while anchored[L//2, L//2] == 0:\n",
    "    #start a new particle at the center\n",
    "    x = y = L//2\n",
    "    while not can_anchor(anchored,x,y):\n",
    "        [x,y] = random_walk(x,y)\n",
    "    age += 1\n",
    "    anchored[x,y] = age\n",
    "ax = figure()\n",
    "imshow(anchored, cmap='YlOrBr')\n",
    "colorbar()"
   ]
  },
  {
   "cell_type": "markdown",
   "metadata": {},
   "source": [
    "Finally, we can make the version which starts at the center."
   ]
  },
  {
   "cell_type": "code",
   "execution_count": 11,
   "metadata": {},
   "outputs": [],
   "source": [
    "from numpy.random import random\n",
    "from numpy import cos, sin, pi, sqrt, ceil"
   ]
  },
  {
   "cell_type": "code",
   "execution_count": 12,
   "metadata": {},
   "outputs": [],
   "source": [
    "def new_particle(start_r, L):\n",
    "    theta = 2*pi*random()\n",
    "    xc = start_r*cos(theta)\n",
    "    yc = sqrt(start_r**2 - xc**2)\n",
    "    if random()<0.5:\n",
    "        yc = -yc\n",
    "    x = int(ceil(xc)+L//2)\n",
    "    y = int(ceil(yc)+L//2)\n",
    "    return [x,y]"
   ]
  },
  {
   "cell_type": "code",
   "execution_count": 13,
   "metadata": {},
   "outputs": [],
   "source": [
    "def is_center_anchored(anchored, x, y):\n",
    "    if anchored[x-1,y]>0 or anchored[x+1,y]>0 or anchored[x,y-1]>0 or anchored[x,y+1]>0:\n",
    "        return True\n",
    "    else:\n",
    "        return False"
   ]
  },
  {
   "cell_type": "code",
   "execution_count": 14,
   "metadata": {},
   "outputs": [],
   "source": [
    "def is_too_far(x, y, rfar, L):\n",
    "    if (x-L//2)**2+(y-L//2)**2 > rfar**2:\n",
    "        return True\n",
    "    else:\n",
    "        return False"
   ]
  },
  {
   "cell_type": "code",
   "execution_count": 15,
   "metadata": {},
   "outputs": [
    {
     "data": {
      "text/plain": [
       "<matplotlib.colorbar.Colorbar at 0x21011df8780>"
      ]
     },
     "execution_count": 15,
     "metadata": {},
     "output_type": "execute_result"
    },
    {
     "data": {
      "image/png": "[encoded data removed]",
      "text/plain": [
       "<Figure size 432x288 with 2 Axes>"
      ]
     },
     "metadata": {
      "needs_background": "light"
     },
     "output_type": "display_data"
    }
   ],
   "source": [
    "L = 200\n",
    "anchored = zeros([L+1, L+1], int)\n",
    "\n",
    "age = 1\n",
    "r = 0\n",
    "anchored[L//2, L//2] = age\n",
    "rstop = L//4\n",
    "rfar = 2\n",
    "\n",
    "while r < rstop:\n",
    "    rstart = r+1\n",
    "    [x,y] = new_particle(rstart, L)\n",
    "    while not is_center_anchored(anchored, x, y):\n",
    "        [x,y] = random_walk(x,y)\n",
    "        if is_too_far(x,y,rfar,L):\n",
    "            [x,y] = new_particle(rstart, L)\n",
    "    age += 1\n",
    "    anchored[x,y] = age\n",
    "    rcurrent = sqrt((x-L//2)**2 + (y-L//2)**2)\n",
    "    if rcurrent > r:\n",
    "        r = rcurrent\n",
    "        rstart = r+1\n",
    "        rfar = 2*r\n",
    "    \n",
    "ax = figure()\n",
    "imshow(anchored, cmap='YlOrBr')\n",
    "colorbar()"
   ]
  },
  {
   "cell_type": "code",
   "execution_count": null,
   "metadata": {},
   "outputs": [],
   "source": []
  }
 ],
 "metadata": {
  "kernelspec": {
   "display_name": "Python 3",
   "language": "python",
   "name": "python3"
  },
  "language_info": {
   "codemirror_mode": {
    "name": "ipython",
    "version": 3
   },
   "file_extension": ".py",
   "mimetype": "text/x-python",
   "name": "python",
   "nbconvert_exporter": "python",
   "pygments_lexer": "ipython3",
   "version": "3.7.3"
  }
 },
 "nbformat": 4,
 "nbformat_minor": 1
}
